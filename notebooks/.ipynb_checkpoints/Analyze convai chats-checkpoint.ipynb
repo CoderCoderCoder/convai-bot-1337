{
 "cells": [
  {
   "cell_type": "code",
   "execution_count": 1,
   "metadata": {
    "collapsed": true
   },
   "outputs": [],
   "source": [
    "import json"
   ]
  },
  {
   "cell_type": "code",
   "execution_count": 3,
   "metadata": {
    "collapsed": true
   },
   "outputs": [],
   "source": [
    "with open('./train_20170724.json', 'r') as f:\n",
    "    data = json.load(f)"
   ]
  },
  {
   "cell_type": "code",
   "execution_count": 5,
   "metadata": {
    "collapsed": false
   },
   "outputs": [
    {
     "name": "stdout",
     "output_type": "stream",
     "text": [
      "{'thread': [{'userId': 'Alice', 'text': 'Hi! As for me, I thought Spain got united much earlier'}], 'dialogId': -315877751, 'context': 'The decline of the city reached its nadir with the War of Spanish Succession (1702–1709) that marked the end of the political and legal independence of the Kingdom of Valencia. During the War of the Spanish Succession, Valencia sided with Charles of Austria. On 24 January 1706, Charles Mordaunt, 3rd Earl of Peterborough, 1st Earl of Monmouth, led a handful of English cavalrymen into the city after riding south from Barcelona, capturing the nearby fortress at Sagunt, and bluffing the Spanish Bourbon army into withdrawal.', 'users': [{'id': 'Bob', 'userType': 'Human'}, {'id': 'Alice', 'userType': 'Human'}]}\n"
     ]
    }
   ],
   "source": [
    "def select_bot(users):\n",
    "    user1, user2 = users\n",
    "    if user1['userType'] == 'Human':\n",
    "        return user2\n",
    "    else:\n",
    "        return user1\n",
    "\n",
    "def select_human(users):\n",
    "    user1, user2 = users\n",
    "    if user1['userType'] == 'Bot':\n",
    "        return user2\n",
    "    else:\n",
    "        return user1\n",
    "    \n",
    "for dialog in data:\n",
    "    bot = select_bot(dialog['users'])\n",
    "    human = select_human(dialog['users'])\n",
    "    context = dialog['context']\n",
    "    human_responses = get_human_responses(dialog['thread'], human)\n",
    "    break"
   ]
  }
 ],
 "metadata": {
  "kernelspec": {
   "display_name": "Python 3",
   "language": "python",
   "name": "python3"
  },
  "language_info": {
   "codemirror_mode": {
    "name": "ipython",
    "version": 3
   },
   "file_extension": ".py",
   "mimetype": "text/x-python",
   "name": "python",
   "nbconvert_exporter": "python",
   "pygments_lexer": "ipython3",
   "version": "3.5.0"
  }
 },
 "nbformat": 4,
 "nbformat_minor": 0
}
